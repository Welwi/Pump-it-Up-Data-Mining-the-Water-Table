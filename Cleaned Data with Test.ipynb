{
 "cells": [
  {
   "cell_type": "code",
   "execution_count": 1,
   "metadata": {},
   "outputs": [],
   "source": [
    "import pandas as pd\n",
    "import numpy as np\n",
    "\n",
    "from category_encoders import TargetEncoder\n",
    "from sklearn.preprocessing import OneHotEncoder"
   ]
  },
  {
   "cell_type": "markdown",
   "metadata": {},
   "source": [
    "## Deleting Irrelevant/Duplicate Features, Engineering Date, Making Target Numerical"
   ]
  },
  {
   "cell_type": "markdown",
   "metadata": {},
   "source": [
    "### - Training Set"
   ]
  },
  {
   "cell_type": "code",
   "execution_count": 2,
   "metadata": {},
   "outputs": [],
   "source": [
    "#read in csv's and merge\n",
    "values_df = pd.read_csv('train_set_values.csv')\n",
    "labels_df = pd.read_csv('train_set_labels.csv')\n",
    "\n",
    "df= pd.merge(values_df, labels_df, on = 'id' )\n",
    "\n",
    "#Fills in the mod\n",
    "for col in df.columns[df.isna().sum() > 0]:\n",
    "    mode = df[col].mode()[0]\n",
    "    df[col].fillna(value = mode, inplace = True)\n",
    "    \n",
    "#dropping    \n",
    "to_drop = ['funder', 'num_private', 'subvillage', 'region_code', 'recorded_by', 'source_type', 'waterpoint_type', 'scheme_name', 'payment_type', 'quantity_group']\n",
    "df.drop(columns = to_drop, inplace = True)\n",
    "#targets to 0,1,2\n",
    "df['status_group'] = df['status_group'].map({'functional': 2, 'functional needs repair': 1, 'non functional': 0})\n",
    "\n",
    "#date column\n",
    "df['date_recorded'] = pd.to_datetime(df['date_recorded'])\n",
    "df['year_recorded'] = df['date_recorded'].dt.year\n",
    "df['month_recorded'] = df['date_recorded'].dt.month\n",
    "df.drop(columns = 'date_recorded', inplace = True)\n",
    "\n",
    "# df.to_csv('cleaned_columns_dropped.csv')"
   ]
  },
  {
   "cell_type": "markdown",
   "metadata": {},
   "source": [
    "### - Test Set"
   ]
  },
  {
   "cell_type": "code",
   "execution_count": 3,
   "metadata": {},
   "outputs": [],
   "source": [
    "#TEST SET TRANSFORM\n",
    "test_df = pd.read_csv('test_set_values.csv')\n",
    "\n",
    "#Fills in the mod\n",
    "for col in test_df.columns[test_df.isna().sum() > 0]:\n",
    "    mode = test_df[col].mode()[0]\n",
    "    test_df[col].fillna(value = mode, inplace = True)\n",
    "    \n",
    "#dropping    \n",
    "to_drop = ['funder', 'num_private', 'subvillage', 'region_code', 'recorded_by', 'source_type', 'waterpoint_type', 'scheme_name', 'payment_type', 'quantity_group']\n",
    "test_df.drop(columns = to_drop, inplace = True)\n",
    "\n",
    "#date column\n",
    "test_df['date_recorded'] = pd.to_datetime(test_df['date_recorded'])\n",
    "test_df['year_recorded'] = test_df['date_recorded'].dt.year\n",
    "test_df['month_recorded'] = test_df['date_recorded'].dt.month\n",
    "test_df.drop(columns = 'date_recorded', inplace = True)"
   ]
  },
  {
   "cell_type": "markdown",
   "metadata": {},
   "source": [
    "## Encoding Test and Train Data"
   ]
  },
  {
   "cell_type": "code",
   "execution_count": 4,
   "metadata": {},
   "outputs": [],
   "source": [
    "#target encode\n",
    "target = 'status_group'\n",
    "lst_te = ['wpt_name', 'basin', 'region', 'district_code', 'lga', 'ward', 'scheme_management','installer','source']\n",
    "\n",
    "encoder = TargetEncoder()\n",
    "\n",
    "for c in lst_te:\n",
    "    df[str(c) + '_encoded'] = encoder.fit_transform(df[c].values, df[target]) # TRAINING SET\n",
    "    test_df[str(c) + '_encoded'] = encoder.transform(test_df[c].values) # TEST SET\n",
    "    df.drop(columns=c, inplace=True) # TRAINING SET\n",
    "    test_df.drop(columns=c, inplace=True) # TEST SET\n",
    "    \n",
    "#one hot encode\n",
    "encoder_ohe = OneHotEncoder(sparse=False)\n",
    "\n",
    "ohe = ['extraction_type', 'extraction_type_group', 'extraction_type_class','management', 'payment', 'water_quality', 'management_group', 'quality_group', \n",
    "      'quantity','source_class', 'waterpoint_type_group']\n",
    "\n",
    "\n",
    "#ONE HOT ENCODING TRAINING SET\n",
    "df_new = df[ohe]\n",
    "encoder_ohe.fit(df_new)\n",
    "x = encoder_ohe.transform(df_new)\n",
    "df1 = pd.DataFrame(x)\n",
    "df = pd.concat([df, df1], axis=1)\n",
    "df.drop(columns=ohe, inplace=True)\n",
    "\n",
    "#ONE HOT ENCODING TEST SET\n",
    "df_new1 = test_df[ohe]\n",
    "x1 = encoder_ohe.transform(df_new1)\n",
    "df2 = pd.DataFrame(x1)\n",
    "test_df = pd.concat([test_df, df2], axis = 1)\n",
    "test_df.drop(columns=ohe, inplace=True)"
   ]
  },
  {
   "cell_type": "code",
   "execution_count": 6,
   "metadata": {},
   "outputs": [],
   "source": [
    "# test_df.to_csv('test_set_trial1.csv')"
   ]
  },
  {
   "cell_type": "code",
   "execution_count": null,
   "metadata": {},
   "outputs": [],
   "source": []
  }
 ],
 "metadata": {
  "kernelspec": {
   "display_name": "Python 3",
   "language": "python",
   "name": "python3"
  },
  "language_info": {
   "codemirror_mode": {
    "name": "ipython",
    "version": 3
   },
   "file_extension": ".py",
   "mimetype": "text/x-python",
   "name": "python",
   "nbconvert_exporter": "python",
   "pygments_lexer": "ipython3",
   "version": "3.7.4"
  }
 },
 "nbformat": 4,
 "nbformat_minor": 4
}
