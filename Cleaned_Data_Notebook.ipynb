{
 "cells": [
  {
   "cell_type": "code",
   "execution_count": 5,
   "metadata": {},
   "outputs": [
    {
     "ename": "ImportError",
     "evalue": "cannot import name 'TargetEncoder' from 'sklearn.preprocessing' (/home/anupjsebastian/anaconda3/envs/learn-env/lib/python3.7/site-packages/sklearn/preprocessing/__init__.py)",
     "output_type": "error",
     "traceback": [
      "\u001b[0;31m---------------------------------------------------------------------------\u001b[0m",
      "\u001b[0;31mImportError\u001b[0m                               Traceback (most recent call last)",
      "\u001b[0;32m<ipython-input-5-8a4891c0134c>\u001b[0m in \u001b[0;36m<module>\u001b[0;34m\u001b[0m\n\u001b[1;32m      2\u001b[0m \u001b[0;32mimport\u001b[0m \u001b[0mnumpy\u001b[0m \u001b[0;32mas\u001b[0m \u001b[0mnp\u001b[0m\u001b[0;34m\u001b[0m\u001b[0;34m\u001b[0m\u001b[0m\n\u001b[1;32m      3\u001b[0m \u001b[0;34m\u001b[0m\u001b[0m\n\u001b[0;32m----> 4\u001b[0;31m \u001b[0;32mfrom\u001b[0m \u001b[0msklearn\u001b[0m\u001b[0;34m.\u001b[0m\u001b[0mpreprocessing\u001b[0m \u001b[0;32mimport\u001b[0m \u001b[0mTargetEncoder\u001b[0m\u001b[0;34m\u001b[0m\u001b[0;34m\u001b[0m\u001b[0m\n\u001b[0m\u001b[1;32m      5\u001b[0m \u001b[0;32mfrom\u001b[0m \u001b[0msklearn\u001b[0m\u001b[0;34m.\u001b[0m\u001b[0mpreprocessing\u001b[0m \u001b[0;32mimport\u001b[0m \u001b[0mOneHotEncoder\u001b[0m\u001b[0;34m\u001b[0m\u001b[0;34m\u001b[0m\u001b[0m\n",
      "\u001b[0;31mImportError\u001b[0m: cannot import name 'TargetEncoder' from 'sklearn.preprocessing' (/home/anupjsebastian/anaconda3/envs/learn-env/lib/python3.7/site-packages/sklearn/preprocessing/__init__.py)"
     ]
    }
   ],
   "source": [
    "import pandas as pd\n",
    "import numpy as np\n",
    "\n",
    "from category_encoders import TargetEncoder\n",
    "from sklearn.preprocessing import OneHotEncoder"
   ]
  },
  {
   "cell_type": "code",
   "execution_count": 2,
   "metadata": {},
   "outputs": [],
   "source": [
    "#read in csv's and merge\n",
    "values_df = pd.read_csv('train_set_values.csv')\n",
    "labels_df = pd.read_csv('train_set_labels.csv')\n",
    "df= pd.merge(values_df, labels_df, on = 'id' )\n",
    "\n",
    "#Fills in the mod\n",
    "for col in df.columns[df.isna().sum() > 0]:\n",
    "    mode = df[col].mode()[0]\n",
    "    df[col].fillna(value = mode, inplace = True)\n",
    "    \n",
    "#dropping    \n",
    "to_drop = ['id','funder', 'num_private', 'subvillage', 'region_code', 'recorded_by', 'source_type', 'waterpoint_type', 'scheme_name', 'payment_type', 'quantity_group']\n",
    "df.drop(columns = to_drop, inplace = True)\n",
    "\n",
    "#targets to 0,1,2\n",
    "df['status_group'] = df['status_group'].map({'functional': 2, 'functional needs repair': 1, 'non functional': 0})\n",
    "\n",
    "#date column\n",
    "df['date_recorded'] = pd.to_datetime(df['date_recorded'])\n",
    "df['year_recorded'] = df['date_recorded'].dt.year\n",
    "df['month_recorded'] = df['date_recorded'].dt.month\n",
    "df.drop(columns = 'date_recorded', inplace = True)\n",
    "\n",
    "# df.to_csv('cleaned_columns_dropped.csv')"
   ]
  },
  {
   "cell_type": "code",
   "execution_count": 3,
   "metadata": {},
   "outputs": [
    {
     "ename": "NameError",
     "evalue": "name 'TargetEncoder' is not defined",
     "output_type": "error",
     "traceback": [
      "\u001b[0;31m---------------------------------------------------------------------------\u001b[0m",
      "\u001b[0;31mNameError\u001b[0m                                 Traceback (most recent call last)",
      "\u001b[0;32m<ipython-input-3-6487e3ac5f00>\u001b[0m in \u001b[0;36m<module>\u001b[0;34m\u001b[0m\n\u001b[1;32m      3\u001b[0m \u001b[0mlst_te\u001b[0m \u001b[0;34m=\u001b[0m \u001b[0;34m[\u001b[0m\u001b[0;34m'wpt_name'\u001b[0m\u001b[0;34m,\u001b[0m \u001b[0;34m'basin'\u001b[0m\u001b[0;34m,\u001b[0m \u001b[0;34m'region'\u001b[0m\u001b[0;34m,\u001b[0m \u001b[0;34m'district_code'\u001b[0m\u001b[0;34m,\u001b[0m \u001b[0;34m'lga'\u001b[0m\u001b[0;34m,\u001b[0m \u001b[0;34m'ward'\u001b[0m\u001b[0;34m,\u001b[0m \u001b[0;34m'scheme_management'\u001b[0m\u001b[0;34m,\u001b[0m\u001b[0;34m'installer'\u001b[0m\u001b[0;34m,\u001b[0m\u001b[0;34m'source'\u001b[0m\u001b[0;34m]\u001b[0m\u001b[0;34m\u001b[0m\u001b[0;34m\u001b[0m\u001b[0m\n\u001b[1;32m      4\u001b[0m \u001b[0;34m\u001b[0m\u001b[0m\n\u001b[0;32m----> 5\u001b[0;31m \u001b[0mencoder\u001b[0m \u001b[0;34m=\u001b[0m \u001b[0mTargetEncoder\u001b[0m\u001b[0;34m(\u001b[0m\u001b[0;34m)\u001b[0m\u001b[0;34m\u001b[0m\u001b[0;34m\u001b[0m\u001b[0m\n\u001b[0m\u001b[1;32m      6\u001b[0m \u001b[0;34m\u001b[0m\u001b[0m\n\u001b[1;32m      7\u001b[0m \u001b[0;32mfor\u001b[0m \u001b[0mc\u001b[0m \u001b[0;32min\u001b[0m \u001b[0mlst_te\u001b[0m\u001b[0;34m:\u001b[0m\u001b[0;34m\u001b[0m\u001b[0;34m\u001b[0m\u001b[0m\n",
      "\u001b[0;31mNameError\u001b[0m: name 'TargetEncoder' is not defined"
     ]
    }
   ],
   "source": [
    "#target encode\n",
    "target = 'status_group'\n",
    "lst_te = ['wpt_name', 'basin', 'region', 'district_code', 'lga', 'ward', 'scheme_management','installer','source']\n",
    "\n",
    "encoder = TargetEncoder()\n",
    "\n",
    "for c in lst_te:\n",
    "    df[str(c) + '_encoded'] = encoder.fit_transform(df[c].values, df[target])\n",
    "    df.drop(columns=c, inplace=True)\n",
    "    \n",
    "#one hot encode\n",
    "encoder_ohe = OneHotEncoder(sparse=False)\n",
    "\n",
    "ohe = ['extraction_type', 'extraction_type_group', 'extraction_type_class','management', 'payment', 'water_quality', 'management_group', 'quality_group', \n",
    "      'quantity','source_class', 'waterpoint_type_group']\n",
    "\n",
    "df_new = df[ohe]\n",
    "encoder_ohe.fit(df_new)\n",
    "x = encoder_ohe.transform(df_new)\n",
    "df1 = pd.DataFrame(x)\n",
    "df = pd.concat([df, df1], axis=1)\n",
    "df.drop(columns=ohe, inplace=True)"
   ]
  },
  {
   "cell_type": "code",
   "execution_count": null,
   "metadata": {},
   "outputs": [],
   "source": []
  }
 ],
 "metadata": {
  "kernelspec": {
   "display_name": "Python 3",
   "language": "python",
   "name": "python3"
  },
  "language_info": {
   "codemirror_mode": {
    "name": "ipython",
    "version": 3
   },
   "file_extension": ".py",
   "mimetype": "text/x-python",
   "name": "python",
   "nbconvert_exporter": "python",
   "pygments_lexer": "ipython3",
   "version": "3.7.6"
  }
 },
 "nbformat": 4,
 "nbformat_minor": 4
}
