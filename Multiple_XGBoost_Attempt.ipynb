{
 "cells": [
  {
   "cell_type": "markdown",
   "metadata": {},
   "source": [
    "# Multiple XGBoost Attempt"
   ]
  },
  {
   "cell_type": "markdown",
   "metadata": {},
   "source": [
    "This model tries to improve performance by using 4 different XGBoost Classifiers, and then combining their results to give a final prediction.\n",
    "\n",
    "There are 3 'expert' models which are binary classifiers. These models are trained to identify whether the data provided is of a certain class or not. For example the non-functional expert classifies whether the well is non-functional or not, the repair expert predicts whether it is a well that is functional but needs repair and so on.\n",
    "\n",
    "In cases where there is a conflict between the models, the 4th model, which is a ternary classifier, is used as the final prediction."
   ]
  },
  {
   "cell_type": "markdown",
   "metadata": {},
   "source": [
    "## Data Import"
   ]
  },
  {
   "cell_type": "code",
   "execution_count": 1,
   "metadata": {},
   "outputs": [
    {
     "data": {
      "text/html": [
       "<div>\n",
       "<style scoped>\n",
       "    .dataframe tbody tr th:only-of-type {\n",
       "        vertical-align: middle;\n",
       "    }\n",
       "\n",
       "    .dataframe tbody tr th {\n",
       "        vertical-align: top;\n",
       "    }\n",
       "\n",
       "    .dataframe thead th {\n",
       "        text-align: right;\n",
       "    }\n",
       "</style>\n",
       "<table border=\"1\" class=\"dataframe\">\n",
       "  <thead>\n",
       "    <tr style=\"text-align: right;\">\n",
       "      <th></th>\n",
       "      <th>id</th>\n",
       "      <th>amount_tsh</th>\n",
       "      <th>date_recorded</th>\n",
       "      <th>funder</th>\n",
       "      <th>gps_height</th>\n",
       "      <th>installer</th>\n",
       "      <th>longitude</th>\n",
       "      <th>latitude</th>\n",
       "      <th>wpt_name</th>\n",
       "      <th>num_private</th>\n",
       "      <th>...</th>\n",
       "      <th>water_quality</th>\n",
       "      <th>quality_group</th>\n",
       "      <th>quantity</th>\n",
       "      <th>quantity_group</th>\n",
       "      <th>source</th>\n",
       "      <th>source_type</th>\n",
       "      <th>source_class</th>\n",
       "      <th>waterpoint_type</th>\n",
       "      <th>waterpoint_type_group</th>\n",
       "      <th>status_group</th>\n",
       "    </tr>\n",
       "  </thead>\n",
       "  <tbody>\n",
       "    <tr>\n",
       "      <th>0</th>\n",
       "      <td>69572</td>\n",
       "      <td>6000.0</td>\n",
       "      <td>2011-03-14</td>\n",
       "      <td>Roman</td>\n",
       "      <td>1390</td>\n",
       "      <td>Roman</td>\n",
       "      <td>34.938093</td>\n",
       "      <td>-9.856322</td>\n",
       "      <td>none</td>\n",
       "      <td>0</td>\n",
       "      <td>...</td>\n",
       "      <td>soft</td>\n",
       "      <td>good</td>\n",
       "      <td>enough</td>\n",
       "      <td>enough</td>\n",
       "      <td>spring</td>\n",
       "      <td>spring</td>\n",
       "      <td>groundwater</td>\n",
       "      <td>communal standpipe</td>\n",
       "      <td>communal standpipe</td>\n",
       "      <td>functional</td>\n",
       "    </tr>\n",
       "    <tr>\n",
       "      <th>1</th>\n",
       "      <td>8776</td>\n",
       "      <td>0.0</td>\n",
       "      <td>2013-03-06</td>\n",
       "      <td>Grumeti</td>\n",
       "      <td>1399</td>\n",
       "      <td>GRUMETI</td>\n",
       "      <td>34.698766</td>\n",
       "      <td>-2.147466</td>\n",
       "      <td>Zahanati</td>\n",
       "      <td>0</td>\n",
       "      <td>...</td>\n",
       "      <td>soft</td>\n",
       "      <td>good</td>\n",
       "      <td>insufficient</td>\n",
       "      <td>insufficient</td>\n",
       "      <td>rainwater harvesting</td>\n",
       "      <td>rainwater harvesting</td>\n",
       "      <td>surface</td>\n",
       "      <td>communal standpipe</td>\n",
       "      <td>communal standpipe</td>\n",
       "      <td>functional</td>\n",
       "    </tr>\n",
       "    <tr>\n",
       "      <th>2</th>\n",
       "      <td>34310</td>\n",
       "      <td>25.0</td>\n",
       "      <td>2013-02-25</td>\n",
       "      <td>Lottery Club</td>\n",
       "      <td>686</td>\n",
       "      <td>World vision</td>\n",
       "      <td>37.460664</td>\n",
       "      <td>-3.821329</td>\n",
       "      <td>Kwa Mahundi</td>\n",
       "      <td>0</td>\n",
       "      <td>...</td>\n",
       "      <td>soft</td>\n",
       "      <td>good</td>\n",
       "      <td>enough</td>\n",
       "      <td>enough</td>\n",
       "      <td>dam</td>\n",
       "      <td>dam</td>\n",
       "      <td>surface</td>\n",
       "      <td>communal standpipe multiple</td>\n",
       "      <td>communal standpipe</td>\n",
       "      <td>functional</td>\n",
       "    </tr>\n",
       "    <tr>\n",
       "      <th>3</th>\n",
       "      <td>67743</td>\n",
       "      <td>0.0</td>\n",
       "      <td>2013-01-28</td>\n",
       "      <td>Unicef</td>\n",
       "      <td>263</td>\n",
       "      <td>UNICEF</td>\n",
       "      <td>38.486161</td>\n",
       "      <td>-11.155298</td>\n",
       "      <td>Zahanati Ya Nanyumbu</td>\n",
       "      <td>0</td>\n",
       "      <td>...</td>\n",
       "      <td>soft</td>\n",
       "      <td>good</td>\n",
       "      <td>dry</td>\n",
       "      <td>dry</td>\n",
       "      <td>machine dbh</td>\n",
       "      <td>borehole</td>\n",
       "      <td>groundwater</td>\n",
       "      <td>communal standpipe multiple</td>\n",
       "      <td>communal standpipe</td>\n",
       "      <td>non functional</td>\n",
       "    </tr>\n",
       "    <tr>\n",
       "      <th>4</th>\n",
       "      <td>19728</td>\n",
       "      <td>0.0</td>\n",
       "      <td>2011-07-13</td>\n",
       "      <td>Action In A</td>\n",
       "      <td>0</td>\n",
       "      <td>Artisan</td>\n",
       "      <td>31.130847</td>\n",
       "      <td>-1.825359</td>\n",
       "      <td>Shuleni</td>\n",
       "      <td>0</td>\n",
       "      <td>...</td>\n",
       "      <td>soft</td>\n",
       "      <td>good</td>\n",
       "      <td>seasonal</td>\n",
       "      <td>seasonal</td>\n",
       "      <td>rainwater harvesting</td>\n",
       "      <td>rainwater harvesting</td>\n",
       "      <td>surface</td>\n",
       "      <td>communal standpipe</td>\n",
       "      <td>communal standpipe</td>\n",
       "      <td>functional</td>\n",
       "    </tr>\n",
       "  </tbody>\n",
       "</table>\n",
       "<p>5 rows × 41 columns</p>\n",
       "</div>"
      ],
      "text/plain": [
       "      id  amount_tsh date_recorded        funder  gps_height     installer  \\\n",
       "0  69572      6000.0    2011-03-14         Roman        1390         Roman   \n",
       "1   8776         0.0    2013-03-06       Grumeti        1399       GRUMETI   \n",
       "2  34310        25.0    2013-02-25  Lottery Club         686  World vision   \n",
       "3  67743         0.0    2013-01-28        Unicef         263        UNICEF   \n",
       "4  19728         0.0    2011-07-13   Action In A           0       Artisan   \n",
       "\n",
       "   longitude   latitude              wpt_name  num_private  ... water_quality  \\\n",
       "0  34.938093  -9.856322                  none            0  ...          soft   \n",
       "1  34.698766  -2.147466              Zahanati            0  ...          soft   \n",
       "2  37.460664  -3.821329           Kwa Mahundi            0  ...          soft   \n",
       "3  38.486161 -11.155298  Zahanati Ya Nanyumbu            0  ...          soft   \n",
       "4  31.130847  -1.825359               Shuleni            0  ...          soft   \n",
       "\n",
       "  quality_group      quantity  quantity_group                source  \\\n",
       "0          good        enough          enough                spring   \n",
       "1          good  insufficient    insufficient  rainwater harvesting   \n",
       "2          good        enough          enough                   dam   \n",
       "3          good           dry             dry           machine dbh   \n",
       "4          good      seasonal        seasonal  rainwater harvesting   \n",
       "\n",
       "            source_type source_class              waterpoint_type  \\\n",
       "0                spring  groundwater           communal standpipe   \n",
       "1  rainwater harvesting      surface           communal standpipe   \n",
       "2                   dam      surface  communal standpipe multiple   \n",
       "3              borehole  groundwater  communal standpipe multiple   \n",
       "4  rainwater harvesting      surface           communal standpipe   \n",
       "\n",
       "  waterpoint_type_group    status_group  \n",
       "0    communal standpipe      functional  \n",
       "1    communal standpipe      functional  \n",
       "2    communal standpipe      functional  \n",
       "3    communal standpipe  non functional  \n",
       "4    communal standpipe      functional  \n",
       "\n",
       "[5 rows x 41 columns]"
      ]
     },
     "execution_count": 1,
     "metadata": {},
     "output_type": "execute_result"
    }
   ],
   "source": [
    "import pandas as pd\n",
    "import numpy as np\n",
    "import matplotlib.pyplot as plt\n",
    "#read in csv's and merge\n",
    "values_df = pd.read_csv('train_set_values.csv')\n",
    "labels_df = pd.read_csv('train_set_labels.csv')\n",
    "test_df = pd.read_csv('test_set_values.csv')\n",
    "\n",
    "df= pd.merge(values_df, labels_df, on = 'id' )\n",
    "\n",
    "df.head()"
   ]
  },
  {
   "cell_type": "code",
   "execution_count": 2,
   "metadata": {},
   "outputs": [
    {
     "data": {
      "text/plain": [
       "functional                 32259\n",
       "non functional             22824\n",
       "functional needs repair     4317\n",
       "Name: status_group, dtype: int64"
      ]
     },
     "execution_count": 2,
     "metadata": {},
     "output_type": "execute_result"
    }
   ],
   "source": [
    "df['status_group'].value_counts()"
   ]
  },
  {
   "cell_type": "code",
   "execution_count": 3,
   "metadata": {},
   "outputs": [],
   "source": [
    "from imblearn.over_sampling import SMOTE\n",
    "from preprocessor import DataCleaner\n",
    "from sklearn.neighbors import KNeighborsClassifier\n",
    "from sklearn.model_selection import cross_val_score, train_test_split, GridSearchCV\n",
    "from sklearn.metrics import accuracy_score\n",
    "from xgboost import XGBClassifier\n",
    "from lightgbm import LGBMClassifier\n",
    "from sklearn.pipeline import make_pipeline\n",
    "from mlxtend.evaluate import confusion_matrix\n",
    "from mlxtend.plotting import plot_confusion_matrix\n",
    "from mlxtend.classifier import StackingCVClassifier"
   ]
  },
  {
   "cell_type": "markdown",
   "metadata": {},
   "source": [
    "The cleanup process is done in an imported function DataCleaner. It contains all the steps of the cleanup process mentioned in README.md and return a cleaned train and test dataset."
   ]
  },
  {
   "cell_type": "code",
   "execution_count": 4,
   "metadata": {},
   "outputs": [],
   "source": [
    "train, test = DataCleaner(values_df, labels_df, test_df)"
   ]
  },
  {
   "cell_type": "markdown",
   "metadata": {},
   "source": [
    "4 copies of the train dataset are created, to train each model separately. The data is then made binary by assigning the expert prediction to 1 and the others to 0 for each dataset. For example in the repair expert, 'functional needs repair' would be 1 and the others 0."
   ]
  },
  {
   "cell_type": "code",
   "execution_count": 5,
   "metadata": {},
   "outputs": [],
   "source": [
    "train_func = train.copy()\n",
    "train_non_func = train.copy()\n",
    "train_repair = train.copy()"
   ]
  },
  {
   "cell_type": "code",
   "execution_count": 6,
   "metadata": {},
   "outputs": [],
   "source": [
    "# 0 non functional\n",
    "# 1 functional needs repair\n",
    "# 2 functional"
   ]
  },
  {
   "cell_type": "code",
   "execution_count": 7,
   "metadata": {},
   "outputs": [
    {
     "data": {
      "text/plain": [
       "2    32259\n",
       "0    22824\n",
       "1     4317\n",
       "Name: status_group, dtype: int64"
      ]
     },
     "execution_count": 7,
     "metadata": {},
     "output_type": "execute_result"
    }
   ],
   "source": [
    "train['status_group'].value_counts()"
   ]
  },
  {
   "cell_type": "code",
   "execution_count": 8,
   "metadata": {},
   "outputs": [
    {
     "data": {
      "text/plain": [
       "1    32259\n",
       "0    27141\n",
       "Name: status_group, dtype: int64"
      ]
     },
     "execution_count": 8,
     "metadata": {},
     "output_type": "execute_result"
    }
   ],
   "source": [
    "train_func['status_group'] = train_func['status_group'].replace(1, 0).replace(2, 1)\n",
    "train_func['status_group'].value_counts()"
   ]
  },
  {
   "cell_type": "code",
   "execution_count": 9,
   "metadata": {},
   "outputs": [
    {
     "data": {
      "text/plain": [
       "0    36576\n",
       "1    22824\n",
       "Name: status_group, dtype: int64"
      ]
     },
     "execution_count": 9,
     "metadata": {},
     "output_type": "execute_result"
    }
   ],
   "source": [
    "train_non_func['status_group'] = train_non_func['status_group'].replace(1, 2).replace(0, 1).replace(2, 0)\n",
    "train_non_func['status_group'].value_counts()"
   ]
  },
  {
   "cell_type": "code",
   "execution_count": 10,
   "metadata": {},
   "outputs": [
    {
     "data": {
      "text/plain": [
       "0    55083\n",
       "1     4317\n",
       "Name: status_group, dtype: int64"
      ]
     },
     "execution_count": 10,
     "metadata": {},
     "output_type": "execute_result"
    }
   ],
   "source": [
    "train_repair['status_group'] = train_repair['status_group'].replace(2,0)\n",
    "train_repair['status_group'].value_counts()"
   ]
  },
  {
   "cell_type": "markdown",
   "metadata": {},
   "source": [
    "Splitting all the above datasets into features(X) and targets(y)"
   ]
  },
  {
   "cell_type": "code",
   "execution_count": 11,
   "metadata": {},
   "outputs": [],
   "source": [
    "y = train['status_group']\n",
    "X = train.drop(columns = 'status_group')\n",
    "X_train, X_test, y_train, y_test = train_test_split(X, y, random_state = 42)"
   ]
  },
  {
   "cell_type": "code",
   "execution_count": 12,
   "metadata": {},
   "outputs": [],
   "source": [
    "y_func = train_func['status_group']\n",
    "X_func = train_func.drop(columns = 'status_group')"
   ]
  },
  {
   "cell_type": "code",
   "execution_count": 13,
   "metadata": {},
   "outputs": [],
   "source": [
    "y_non_func = train_non_func['status_group']\n",
    "X_non_func = train_non_func.drop(columns = 'status_group')"
   ]
  },
  {
   "cell_type": "code",
   "execution_count": 14,
   "metadata": {},
   "outputs": [],
   "source": [
    "y_repair = train_repair['status_group']\n",
    "X_repair = train_repair.drop(columns = 'status_group')"
   ]
  },
  {
   "cell_type": "markdown",
   "metadata": {},
   "source": [
    "Using SMOTE to generate additional training examples for each dataset, and also to mitigate the imbalance of data in the training set for each model."
   ]
  },
  {
   "cell_type": "code",
   "execution_count": 15,
   "metadata": {},
   "outputs": [
    {
     "name": "stdout",
     "output_type": "stream",
     "text": [
      "2    32259\n",
      "0    22824\n",
      "1     4317\n",
      "Name: status_group, dtype: int64\n",
      "2    32259\n",
      "1    32259\n",
      "0    32259\n",
      "Name: status_group, dtype: int64\n"
     ]
    }
   ],
   "source": [
    "smote = SMOTE(sampling_strategy = 'auto', n_jobs = -1)\n",
    "X_resampled, y_resampled = smote.fit_sample(X, y)\n",
    "print(y.value_counts())\n",
    "print(y_resampled.value_counts())"
   ]
  },
  {
   "cell_type": "code",
   "execution_count": 16,
   "metadata": {},
   "outputs": [
    {
     "name": "stdout",
     "output_type": "stream",
     "text": [
      "1    32259\n",
      "0    27141\n",
      "Name: status_group, dtype: int64\n",
      "1    32259\n",
      "0    32259\n",
      "Name: status_group, dtype: int64\n"
     ]
    }
   ],
   "source": [
    "smote = SMOTE(sampling_strategy = 'auto', n_jobs = -1)\n",
    "X_func_resampled, y_func_resampled = smote.fit_sample(X_func, y_func)\n",
    "print(y_func.value_counts())\n",
    "print(y_func_resampled.value_counts())"
   ]
  },
  {
   "cell_type": "code",
   "execution_count": 17,
   "metadata": {},
   "outputs": [
    {
     "name": "stdout",
     "output_type": "stream",
     "text": [
      "0    36576\n",
      "1    22824\n",
      "Name: status_group, dtype: int64\n",
      "1    36576\n",
      "0    36576\n",
      "Name: status_group, dtype: int64\n"
     ]
    }
   ],
   "source": [
    "smote = SMOTE(sampling_strategy = 'auto', n_jobs = -1)\n",
    "X_non_func_resampled, y_non_func_resampled = smote.fit_sample(X_non_func, y_non_func)\n",
    "print(y_non_func.value_counts())\n",
    "print(y_non_func_resampled.value_counts())"
   ]
  },
  {
   "cell_type": "code",
   "execution_count": 18,
   "metadata": {},
   "outputs": [
    {
     "name": "stdout",
     "output_type": "stream",
     "text": [
      "0    55083\n",
      "1     4317\n",
      "Name: status_group, dtype: int64\n",
      "1    55083\n",
      "0    55083\n",
      "Name: status_group, dtype: int64\n"
     ]
    }
   ],
   "source": [
    "smote_train = SMOTE(sampling_strategy = 'auto', n_jobs = -1)\n",
    "X_repair_resampled, y_repair_resampled = smote_train.fit_sample(X_repair, y_repair)\n",
    "print(y_repair.value_counts())\n",
    "print(y_repair_resampled.value_counts())"
   ]
  },
  {
   "cell_type": "code",
   "execution_count": 19,
   "metadata": {},
   "outputs": [
    {
     "name": "stdout",
     "output_type": "stream",
     "text": [
      "2    24161\n",
      "0    17146\n",
      "1     3243\n",
      "Name: status_group, dtype: int64\n",
      "2    24161\n",
      "1    24161\n",
      "0    24161\n",
      "Name: status_group, dtype: int64\n"
     ]
    }
   ],
   "source": [
    "smote_train = SMOTE(sampling_strategy = 'auto', n_jobs = -1)\n",
    "X_train_resampled, y_train_resampled = smote_train.fit_sample(X_train, y_train)\n",
    "print(y_train.value_counts())\n",
    "print(y_train_resampled.value_counts())"
   ]
  },
  {
   "cell_type": "markdown",
   "metadata": {},
   "source": [
    "Evaluating the performance of each model independenly using the training data."
   ]
  },
  {
   "cell_type": "code",
   "execution_count": 21,
   "metadata": {},
   "outputs": [
    {
     "name": "stdout",
     "output_type": "stream",
     "text": [
      "0.836867289473908 +/- 0.004272688997224066\n"
     ]
    }
   ],
   "source": [
    "clf_xg_func = XGBClassifier(objective = 'multi:softmax', booster = 'gbtree', nrounds = 'min.error.idx',\n",
    "                      num_class = 2, maximize = False, eval_metric = 'merror', eta = .1,\n",
    "                      max_depth = 16, colsample_bytree = .4, n_jobs = -1)\n",
    "scores = cross_val_score(clf_xg_func, X_func_resampled, y_func_resampled, cv=5, scoring='accuracy')\n",
    "print(scores.mean(), '+/-', scores.std())"
   ]
  },
  {
   "cell_type": "code",
   "execution_count": 22,
   "metadata": {},
   "outputs": [
    {
     "name": "stdout",
     "output_type": "stream",
     "text": [
      "0.8904346509459662 +/- 0.047752071290198504\n"
     ]
    }
   ],
   "source": [
    "clf_xg_non_func = XGBClassifier(objective = 'multi:softmax', booster = 'gbtree', nrounds = 'min.error.idx',\n",
    "                      num_class = 2, maximize = False, eval_metric = 'merror', eta = .1,\n",
    "                      max_depth = 16, colsample_bytree = .4, n_jobs = -1)\n",
    "scores = cross_val_score(clf_xg_non_func, X_non_func_resampled, y_non_func_resampled, cv=5, scoring='accuracy')\n",
    "print(scores.mean(), '+/-', scores.std())"
   ]
  },
  {
   "cell_type": "code",
   "execution_count": 23,
   "metadata": {},
   "outputs": [
    {
     "name": "stdout",
     "output_type": "stream",
     "text": [
      "0.9555501915090924 +/- 0.07120146445828685\n"
     ]
    }
   ],
   "source": [
    "clf_xg_repair = XGBClassifier(objective = 'multi:softmax', booster = 'gbtree', nrounds = 'min.error.idx',\n",
    "                      num_class = 2, maximize = False, eval_metric = 'merror', eta = .1,\n",
    "                      max_depth = 16, colsample_bytree = .4, n_jobs = -1)\n",
    "scores = cross_val_score(clf_xg_repair, X_repair_resampled, y_repair_resampled, cv=5, scoring='accuracy')\n",
    "print(scores.mean(), '+/-', scores.std())"
   ]
  },
  {
   "cell_type": "code",
   "execution_count": 24,
   "metadata": {},
   "outputs": [
    {
     "name": "stdout",
     "output_type": "stream",
     "text": [
      "0.8470101579834772 +/- 0.0746318560626919\n"
     ]
    }
   ],
   "source": [
    "clf_xg_tie_breaker = XGBClassifier(objective = 'multi:softmax', booster = 'gbtree', nrounds = 'min.error.idx',\n",
    "                      num_class = 3, maximize = False, eval_metric = 'merror', eta = .1,\n",
    "                      max_depth = 16, colsample_bytree = .4, n_jobs = -1)\n",
    "scores = cross_val_score(clf_xg_tie_breaker, X_resampled, y_resampled, cv=5, scoring='accuracy')\n",
    "print(scores.mean(), '+/-', scores.std())"
   ]
  },
  {
   "cell_type": "markdown",
   "metadata": {},
   "source": [
    "Training each model with the appropriate test datasets."
   ]
  },
  {
   "cell_type": "code",
   "execution_count": 26,
   "metadata": {},
   "outputs": [
    {
     "data": {
      "text/plain": [
       "XGBClassifier(base_score=0.5, booster='gbtree', colsample_bylevel=1,\n",
       "              colsample_bynode=1, colsample_bytree=0.4, eta=0.1,\n",
       "              eval_metric='merror', gamma=0, learning_rate=0.1,\n",
       "              max_delta_step=0, max_depth=16, maximize=False,\n",
       "              min_child_weight=1, missing=None, n_estimators=100, n_jobs=-1,\n",
       "              nrounds='min.error.idx', nthread=None, num_class=3,\n",
       "              objective='multi:softprob', random_state=0, reg_alpha=0,\n",
       "              reg_lambda=1, scale_pos_weight=1, seed=None, silent=None,\n",
       "              subsample=1, verbosity=1)"
      ]
     },
     "execution_count": 26,
     "metadata": {},
     "output_type": "execute_result"
    }
   ],
   "source": [
    "clf_xg_func.fit(X_func_resampled, y_func_resampled)\n",
    "clf_xg_non_func.fit(X_non_func_resampled, y_non_func_resampled)\n",
    "clf_xg_repair.fit(X_repair_resampled, y_repair_resampled)\n",
    "clf_xg_tie_breaker.fit(X_resampled, y_resampled)"
   ]
  },
  {
   "cell_type": "markdown",
   "metadata": {},
   "source": [
    "Here we define a custom predict function, that does all the work. It gets the prediction of the provided data row by row for each of the models, and then chooses the final prediction based on the results of each models prediction."
   ]
  },
  {
   "cell_type": "code",
   "execution_count": 111,
   "metadata": {},
   "outputs": [],
   "source": [
    "def predict(X, verbose = False):\n",
    "    final_predictions = []\n",
    "    for index in range(len(X)):\n",
    "        row_df = X.iloc[index: index+1]\n",
    "        func_pred = clf_xg_func.predict(row_df)\n",
    "        non_func_pred = clf_xg_non_func.predict(row_df)\n",
    "        repair_pred = clf_xg_repair.predict(row_df)\n",
    "        \n",
    "        tot = func_pred + non_func_pred + repair_pred\n",
    "        \n",
    "        tie_breaker_pred = clf_xg_tie_breaker.predict(row_df)\n",
    "        if verbose:\n",
    "            print('Functional:', func_pred)\n",
    "            print('Non-Functional:', non_func_pred)\n",
    "            print('Repair:', repair_pred)\n",
    "            print('Total:', tot)\n",
    "            print('Tie-Breaker:', tie_breaker_pred)\n",
    "            \n",
    "        if tot > 1:\n",
    "            final_pred = tie_breaker_pred[0]\n",
    "        else:\n",
    "            if func_pred:\n",
    "                final_pred = 2\n",
    "            elif non_func_pred:\n",
    "                final_pred = 0\n",
    "            elif repair_pred:\n",
    "                final_pred = 1\n",
    "                \n",
    "        if verbose:\n",
    "            print('Final Prediction:', final_pred)\n",
    "            print('-'*25)\n",
    "        \n",
    "        final_predictions.append(final_pred)\n",
    "        \n",
    "    return np.array(final_predictions)"
   ]
  },
  {
   "cell_type": "markdown",
   "metadata": {},
   "source": [
    "Running a small test with the above function, to make sure it works as intended. The verbose = True allows us to see the predicitons of each individual model along with the final prediction."
   ]
  },
  {
   "cell_type": "code",
   "execution_count": 119,
   "metadata": {},
   "outputs": [
    {
     "name": "stdout",
     "output_type": "stream",
     "text": [
      "Functional: [0]\n",
      "Non-Functional: [1]\n",
      "Repair: [0]\n",
      "Total: [1]\n",
      "Tie-Breaker: [0]\n",
      "Final Prediction: 0\n",
      "-------------------------\n",
      "Functional: [1]\n",
      "Non-Functional: [0]\n",
      "Repair: [0]\n",
      "Total: [1]\n",
      "Tie-Breaker: [2]\n",
      "Final Prediction: 2\n",
      "-------------------------\n",
      "Functional: [1]\n",
      "Non-Functional: [0]\n",
      "Repair: [0]\n",
      "Total: [1]\n",
      "Tie-Breaker: [2]\n",
      "Final Prediction: 2\n",
      "-------------------------\n",
      "Functional: [0]\n",
      "Non-Functional: [1]\n",
      "Repair: [0]\n",
      "Total: [1]\n",
      "Tie-Breaker: [0]\n",
      "Final Prediction: 0\n",
      "-------------------------\n",
      "Functional: [1]\n",
      "Non-Functional: [0]\n",
      "Repair: [0]\n",
      "Total: [1]\n",
      "Tie-Breaker: [2]\n",
      "Final Prediction: 2\n",
      "-------------------------\n",
      "Functional: [1]\n",
      "Non-Functional: [0]\n",
      "Repair: [0]\n",
      "Total: [1]\n",
      "Tie-Breaker: [2]\n",
      "Final Prediction: 2\n",
      "-------------------------\n",
      "Functional: [0]\n",
      "Non-Functional: [0]\n",
      "Repair: [0]\n",
      "Total: [0]\n",
      "Tie-Breaker: [2]\n",
      "Final Prediction: 2\n",
      "-------------------------\n",
      "Functional: [0]\n",
      "Non-Functional: [1]\n",
      "Repair: [0]\n",
      "Total: [1]\n",
      "Tie-Breaker: [0]\n",
      "Final Prediction: 0\n",
      "-------------------------\n",
      "Functional: [0]\n",
      "Non-Functional: [1]\n",
      "Repair: [0]\n",
      "Total: [1]\n",
      "Tie-Breaker: [0]\n",
      "Final Prediction: 0\n",
      "-------------------------\n",
      "Functional: [1]\n",
      "Non-Functional: [0]\n",
      "Repair: [0]\n",
      "Total: [1]\n",
      "Tie-Breaker: [2]\n",
      "Final Prediction: 2\n",
      "-------------------------\n"
     ]
    },
    {
     "data": {
      "text/plain": [
       "array([0, 2, 2, 0, 2, 2, 2, 0, 0, 2])"
      ]
     },
     "execution_count": 119,
     "metadata": {},
     "output_type": "execute_result"
    }
   ],
   "source": [
    "predict(test.head(10), verbose = True)"
   ]
  },
  {
   "cell_type": "markdown",
   "metadata": {},
   "source": [
    "Now we test the complete model with multiple datasets. The datasets used are the resampled training data, the original training data and a split of the original data."
   ]
  },
  {
   "cell_type": "code",
   "execution_count": 58,
   "metadata": {},
   "outputs": [],
   "source": [
    "preds_train_resampled = predict(X_train_resampled)\n",
    "preds_X = predict(X)\n",
    "preds_train = predict(X_train)\n",
    "preds_test = predict(X_test)"
   ]
  },
  {
   "cell_type": "markdown",
   "metadata": {},
   "source": [
    "We write a custom accuracy score function to handle array input, and then use it to obtain the scores and plot corresponding confusion matrices for all the above predictions."
   ]
  },
  {
   "cell_type": "code",
   "execution_count": 76,
   "metadata": {},
   "outputs": [],
   "source": [
    "def accuracy_sc(true, predictions_array):\n",
    "    true_array = np.array(true)\n",
    "    pred = []\n",
    "    for i in range(len(predictions_array)):\n",
    "        if true_array[i] == predictions_array[i]:\n",
    "            pred.append(1)\n",
    "        else:\n",
    "            pred.append(0)\n",
    "            \n",
    "    return sum(pred)/len(pred)"
   ]
  },
  {
   "cell_type": "code",
   "execution_count": 77,
   "metadata": {},
   "outputs": [
    {
     "name": "stdout",
     "output_type": "stream",
     "text": [
      "Accuracy Score:  0.9597146917208172\n"
     ]
    },
    {
     "data": {
      "image/png": "[encoded data removed]",
      "text/plain": [
       "<Figure size 432x288 with 1 Axes>"
      ]
     },
     "metadata": {
      "needs_background": "light"
     },
     "output_type": "display_data"
    }
   ],
   "source": [
    "print(\"Accuracy Score: \", accuracy_sc(y_train_resampled, preds_train_resampled))\n",
    "cm = confusion_matrix(y_train_resampled, preds_train_resampled)\n",
    "plot_confusion_matrix(cm)\n",
    "plt.show()"
   ]
  },
  {
   "cell_type": "code",
   "execution_count": 78,
   "metadata": {},
   "outputs": [
    {
     "name": "stdout",
     "output_type": "stream",
     "text": [
      "Accuracy Score:  0.9668181818181818\n"
     ]
    },
    {
     "data": {
      "image/png": "[encoded data removed]",
      "text/plain": [
       "<Figure size 432x288 with 1 Axes>"
      ]
     },
     "metadata": {
      "needs_background": "light"
     },
     "output_type": "display_data"
    }
   ],
   "source": [
    "print(\"Accuracy Score: \", accuracy_sc(y, preds_X))\n",
    "cm = confusion_matrix(y, preds_X)\n",
    "plot_confusion_matrix(cm)\n",
    "plt.show()"
   ]
  },
  {
   "cell_type": "code",
   "execution_count": 79,
   "metadata": {},
   "outputs": [
    {
     "name": "stdout",
     "output_type": "stream",
     "text": [
      "Accuracy Score:  0.9672053872053872\n"
     ]
    },
    {
     "data": {
      "image/png": "[encoded data removed]",
      "text/plain": [
       "<Figure size 432x288 with 1 Axes>"
      ]
     },
     "metadata": {
      "needs_background": "light"
     },
     "output_type": "display_data"
    }
   ],
   "source": [
    "print(\"Accuracy Score: \", accuracy_sc(y_train, preds_train))\n",
    "cm = confusion_matrix(y_train, preds_train)\n",
    "plot_confusion_matrix(cm)\n",
    "plt.show()"
   ]
  },
  {
   "cell_type": "code",
   "execution_count": 80,
   "metadata": {},
   "outputs": [
    {
     "name": "stdout",
     "output_type": "stream",
     "text": [
      "Accuracy Score:  0.9660606060606061\n"
     ]
    },
    {
     "data": {
      "image/png": "[encoded data removed]",
      "text/plain": [
       "<Figure size 432x288 with 1 Axes>"
      ]
     },
     "metadata": {
      "needs_background": "light"
     },
     "output_type": "display_data"
    }
   ],
   "source": [
    "print(\"Accuracy Score: \", accuracy_sc(y_test, preds_test))\n",
    "cm = confusion_matrix(y_test, preds_test)\n",
    "plot_confusion_matrix(cm)\n",
    "plt.show()"
   ]
  },
  {
   "cell_type": "markdown",
   "metadata": {},
   "source": [
    "The above results seem good. So now we try and predict on the test data and then generate a csv for submission."
   ]
  },
  {
   "cell_type": "code",
   "execution_count": 112,
   "metadata": {},
   "outputs": [],
   "source": [
    "preds_main_test = predict(test)"
   ]
  },
  {
   "cell_type": "code",
   "execution_count": 113,
   "metadata": {},
   "outputs": [],
   "source": [
    "submission_preds = pd.DataFrame(preds_main_test)"
   ]
  },
  {
   "cell_type": "code",
   "execution_count": 114,
   "metadata": {},
   "outputs": [],
   "source": [
    "submission_preds.rename({0:'status_group'},axis = 1, inplace = True)"
   ]
  },
  {
   "cell_type": "code",
   "execution_count": 115,
   "metadata": {},
   "outputs": [
    {
     "data": {
      "text/plain": [
       "2    8994\n",
       "0    5384\n",
       "1     472\n",
       "Name: status_group, dtype: int64"
      ]
     },
     "execution_count": 115,
     "metadata": {},
     "output_type": "execute_result"
    }
   ],
   "source": [
    "submission_preds['status_group'].value_counts()"
   ]
  },
  {
   "cell_type": "code",
   "execution_count": 116,
   "metadata": {},
   "outputs": [
    {
     "data": {
      "text/plain": [
       "functional                 8994\n",
       "non functional             5384\n",
       "functional needs repair     472\n",
       "Name: status_group, dtype: int64"
      ]
     },
     "execution_count": 116,
     "metadata": {},
     "output_type": "execute_result"
    }
   ],
   "source": [
    "submission_preds_mapped = submission_preds['status_group'].map({2: 'functional', 1: 'functional needs repair', 0: 'non functional'})\n",
    "submission_preds_mapped.value_counts()"
   ]
  },
  {
   "cell_type": "code",
   "execution_count": 117,
   "metadata": {},
   "outputs": [
    {
     "data": {
      "text/html": [
       "<div>\n",
       "<style scoped>\n",
       "    .dataframe tbody tr th:only-of-type {\n",
       "        vertical-align: middle;\n",
       "    }\n",
       "\n",
       "    .dataframe tbody tr th {\n",
       "        vertical-align: top;\n",
       "    }\n",
       "\n",
       "    .dataframe thead th {\n",
       "        text-align: right;\n",
       "    }\n",
       "</style>\n",
       "<table border=\"1\" class=\"dataframe\">\n",
       "  <thead>\n",
       "    <tr style=\"text-align: right;\">\n",
       "      <th></th>\n",
       "      <th>id</th>\n",
       "      <th>status_group</th>\n",
       "    </tr>\n",
       "  </thead>\n",
       "  <tbody>\n",
       "    <tr>\n",
       "      <th>0</th>\n",
       "      <td>50785</td>\n",
       "      <td>non functional</td>\n",
       "    </tr>\n",
       "    <tr>\n",
       "      <th>1</th>\n",
       "      <td>51630</td>\n",
       "      <td>functional</td>\n",
       "    </tr>\n",
       "    <tr>\n",
       "      <th>2</th>\n",
       "      <td>17168</td>\n",
       "      <td>functional</td>\n",
       "    </tr>\n",
       "    <tr>\n",
       "      <th>3</th>\n",
       "      <td>45559</td>\n",
       "      <td>non functional</td>\n",
       "    </tr>\n",
       "    <tr>\n",
       "      <th>4</th>\n",
       "      <td>49871</td>\n",
       "      <td>functional</td>\n",
       "    </tr>\n",
       "  </tbody>\n",
       "</table>\n",
       "</div>"
      ],
      "text/plain": [
       "      id    status_group\n",
       "0  50785  non functional\n",
       "1  51630      functional\n",
       "2  17168      functional\n",
       "3  45559  non functional\n",
       "4  49871      functional"
      ]
     },
     "execution_count": 117,
     "metadata": {},
     "output_type": "execute_result"
    }
   ],
   "source": [
    "submit_df = pd.concat([test_df['id'], submission_preds_mapped], axis = 1)\n",
    "submit_df.rename(columns = {0: 'status_group'}, inplace = True)\n",
    "submit_df.head()"
   ]
  },
  {
   "cell_type": "code",
   "execution_count": 118,
   "metadata": {},
   "outputs": [],
   "source": [
    "submit_df.to_csv('ultimate.csv', index = False )"
   ]
  }
 ],
 "metadata": {
  "kernelspec": {
   "display_name": "Python 3",
   "language": "python",
   "name": "python3"
  },
  "language_info": {
   "codemirror_mode": {
    "name": "ipython",
    "version": 3
   },
   "file_extension": ".py",
   "mimetype": "text/x-python",
   "name": "python",
   "nbconvert_exporter": "python",
   "pygments_lexer": "ipython3",
   "version": "3.7.6"
  }
 },
 "nbformat": 4,
 "nbformat_minor": 4
}
